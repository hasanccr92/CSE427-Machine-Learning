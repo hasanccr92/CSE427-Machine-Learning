{
  "nbformat": 4,
  "nbformat_minor": 0,
  "metadata": {
    "colab": {
      "provenance": []
    },
    "kernelspec": {
      "name": "python3",
      "display_name": "Python 3"
    },
    "language_info": {
      "name": "python"
    }
  },
  "cells": [
    {
      "cell_type": "markdown",
      "source": [
        "![image.png](data:image/png;base64,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)"
      ],
      "metadata": {
        "id": "kb5l6zP6kUu0"
      }
    },
    {
      "cell_type": "markdown",
      "source": [
        "The above image contains data about the salary information of a corporate company. The salary is directly related to the level of an employee. So you will need to learn the salary as a polynomial function of the level. If the level is $x$, then the salary should be $f(x)$.\n",
        "\n",
        "\n",
        "1.   At first, you are given that the degree of the polynomial is $2$. So, $f(x) = ax^2 + bx + c$. Express the following data as a matrix equation of the form: $Ax = b$. From this, find the least square solution using the formula: $x = (A^T A)^{-1} A^T b$.\n",
        "\n",
        "2.   Now, find the same solution. But this time, using gradient descent. Since, our hyothesis function is $f(x) = ax^{2} + bx + c$ for some unknown $a, b, c \\in \\mathbb{R}$. So, the error function will be as follows:\n",
        "\n",
        "> > $E = \\frac{1}{m}\\sum_{i = 1}^{m} (y_{i} - f(x_{i}))^{2} = \\frac{1}{m}\\sum_{i = 1}^{m} (y_{i} - ax_{i}^{2} - bx_{i} - c)^{2}$\n",
        "\n",
        "\n",
        "> > *   Take random initial values for $a, b, c$. It's good to take $(a, b, c) = (0, 0, 0)$\n",
        "> > *   In each iteration of the algorithm update the values of $a, b, c$ as follows:\n",
        "\n",
        "\n",
        "> > $a = a - \\lambda \\frac{dE}{da} = a - \\lambda \\frac{1}{m}\\sum_{i = 1}^{m} 2(y_{i} - f(x_{i})) (-\\frac{df(x_{i})}{da}) = a - \\lambda \\frac{1}{m}\\sum_{i = 1}^{m} 2(y_{i} - f(x_{i})) (-x_{i}^{2})$\n",
        "\n",
        "> > $b = b - \\lambda \\frac{dE}{db} = b - \\lambda \\frac{1}{m}\\sum_{i = 1}^{m} 2(y_{i} - f(x_{i})) (-\\frac{df(x_{i})}{db}) = b - \\lambda \\frac{1}{m}\\sum_{i = 1}^{m} 2(y_{i} - f(x_{i})) (-x_{i})$\n",
        "\n",
        "> > $c = c - \\lambda \\frac{dE}{dc} = c - \\lambda \\frac{1}{m}\\sum_{i = 1}^{m} 2(y_{i} - f(x_{i})) (-\\frac{df(x_{i})}{dc}) = b - \\lambda \\frac{1}{m}\\sum_{i = 1}^{m} 2(y_{i} - f(x_{i})) (-1)$\n",
        "\n",
        "> > *   The learing rate is $\\lambda = 0.0001$.\n",
        "> > *   Run 1000000 iterations.\n",
        "> > *   Compare the values of $a, b, c$ with those found from the least square solution.\n",
        "\n",
        "\n",
        "\n",
        "\n",
        "\n",
        "\n",
        "\n",
        "\n",
        "\n",
        "\n"
      ],
      "metadata": {
        "id": "zy6Giy_ukbm5"
      }
    },
    {
      "cell_type": "code",
      "source": [
        "####TASK-1##############\n",
        "import numpy as np\n",
        "import math"
      ],
      "metadata": {
        "id": "GBZukaJrpBsf"
      },
      "execution_count": null,
      "outputs": []
    },
    {
      "cell_type": "code",
      "source": [
        "x = [1,2,3,4,5,6,7,8,9,10]\n",
        "x_2 = []\n",
        "\n",
        "for i in x:\n",
        "    x_2.append(i**2)\n",
        "x = np.array(x)\n",
        "x_2 = np.array(x_2)\n",
        "y = np.array([45000, 50000, 60000, 80000, 110000, 150000, 200000, 300000, 500000, 1000000])\n",
        "\n",
        "\n",
        "ones = np.array([1,1,1,1,1,1,1,1,1,1])\n",
        "\n",
        "mat = np.matrix([x_2,x,ones])\n",
        "print(mat)\n",
        "\n",
        "matTr = mat.transpose()\n",
        "\n",
        "print(matTr)\n",
        "\n",
        "\n",
        "\n",
        "mul = np.matmul(mat,matTr)\n",
        "print(mul)\n",
        "\n",
        "inv = np.linalg.inv(mul)\n",
        "print(inv)\n",
        "\n",
        "#mul2 = np.matmul(matTr,y)\n",
        "sol = (np.matmul(matTr,inv))\n",
        "sol = np.matmul(y,sol)\n",
        "\n",
        "print(sol)"
      ],
      "metadata": {
        "colab": {
          "base_uri": "https://localhost:8080/"
        },
        "id": "4ouArBoppQKf",
        "outputId": "96761b3d-3a83-4ff3-f7e1-733b38c0a865"
      },
      "execution_count": null,
      "outputs": [
        {
          "output_type": "stream",
          "name": "stdout",
          "text": [
            "[[  1   4   9  16  25  36  49  64  81 100]\n",
            " [  1   2   3   4   5   6   7   8   9  10]\n",
            " [  1   1   1   1   1   1   1   1   1   1]]\n",
            "[[  1   1   1]\n",
            " [  4   2   1]\n",
            " [  9   3   1]\n",
            " [ 16   4   1]\n",
            " [ 25   5   1]\n",
            " [ 36   6   1]\n",
            " [ 49   7   1]\n",
            " [ 64   8   1]\n",
            " [ 81   9   1]\n",
            " [100  10   1]]\n",
            "[[25333  3025   385]\n",
            " [ 3025   385    55]\n",
            " [  385    55    10]]\n",
            "[[ 0.00189394 -0.02083333  0.04166667]\n",
            " [-0.02083333  0.24128788 -0.525     ]\n",
            " [ 0.04166667 -0.525       1.38333333]]\n",
            "[[  19431.81818182 -132871.21212121  232166.66666667]]\n"
          ]
        }
      ]
    },
    {
      "cell_type": "code",
      "source": [
        "A = np.linalg.lstsq(matTr,y)\n",
        "print(A)"
      ],
      "metadata": {
        "colab": {
          "base_uri": "https://localhost:8080/"
        },
        "id": "Rah7X9jRz-FX",
        "outputId": "51754cb0-943a-47fb-fe3a-d47c92a21650"
      },
      "execution_count": null,
      "outputs": [
        {
          "output_type": "stream",
          "name": "stdout",
          "text": [
            "(array([  19431.81818182, -132871.21212121,  232166.66666667]), array([6.75883333e+10]), 3, array([160.31354478,   5.19019966,   0.79321269]))\n"
          ]
        },
        {
          "output_type": "stream",
          "name": "stderr",
          "text": [
            "<ipython-input-3-b7687c9b7a68>:1: FutureWarning: `rcond` parameter will change to the default of machine precision times ``max(M, N)`` where M and N are the input matrix dimensions.\n",
            "To use the future default and silence this warning we advise to pass `rcond=None`, to keep using the old, explicitly pass `rcond=-1`.\n",
            "  A = np.linalg.lstsq(matTr,y)\n"
          ]
        }
      ]
    },
    {
      "cell_type": "code",
      "source": [
        "##########TASK-2##########\n",
        "lrt = 0.0001\n",
        "iter = 1000000\n",
        "m = (1/10)\n",
        "a,b,c = 0,0,0\n",
        "x = [1,2,3,4,5,6,7,8,9,10]\n",
        "y = [45000, 50000, 60000, 80000, 110000, 150000, 200000, 300000, 500000, 1000000]"
      ],
      "metadata": {
        "id": "pKB2hSQi063m"
      },
      "execution_count": null,
      "outputs": []
    },
    {
      "cell_type": "code",
      "source": [
        "# #eq = (a*(x**2))+ (b*x) + c\n",
        "# for i in range(10000):\n",
        "#     asum = 0\n",
        "#     bsum = 0\n",
        "#     csum = 0\n",
        "\n",
        "#     for j in range(10):\n",
        "#         asum += 2*((y[j] - a*x[j]**2- b*x[j] - c) *m)* (x[j]**2)\n",
        "#         #print(asum)\n",
        "#     new_a  lrt*asum\n",
        "#     for j in range(10):\n",
        "#         bsum += 2*((y[j] - a*x[j]**2- b*x[j] - c) *m)* (x[j])\n",
        "#         #print(asum)\n",
        "#     new_b += lrt*bsum\n",
        "#     for j in range(10):\n",
        "#         csum += 2*((y[j] - a*x[j]**2- b*x[j] - c) *m)* (1)\n",
        "#         #print(asum)\n",
        "#     new_c += lrt*csum\n",
        "#     a = new_a\n",
        "#     b = new_b\n",
        "#     c = new_c\n",
        "\n",
        "   \n",
        "# print(a,b,c)"
      ],
      "metadata": {
        "id": "pn0XpiKq2pfr"
      },
      "execution_count": null,
      "outputs": []
    },
    {
      "cell_type": "code",
      "source": [
        "for i in range(iter):\n",
        "    asum = 0\n",
        "    bsum = 0\n",
        "    csum = 0\n",
        "    for j in range(10):\n",
        "        asum += lrt* m * 2* (y[j] - a*(x[j]**2) - b*x[j] - c) * (-x[j]**2)\n",
        "    new_a = a - asum\n",
        "    for j in range(10):\n",
        "        bsum += lrt* m * 2* (y[j] - a*(x[j]**2) - b*x[j] - c) * (-x[j])\n",
        "    new_b = b - bsum\n",
        "    for j in range(10):\n",
        "        csum += lrt* m * 2* (y[j] - a*(x[j]**2) - b*x[j] - c) * (-1)\n",
        "    new_c = c - csum\n",
        "\n",
        "    a = new_a\n",
        "    b = new_b\n",
        "    c = new_c\n",
        "\n",
        "   \n",
        "print(a,b,c)"
      ],
      "metadata": {
        "colab": {
          "base_uri": "https://localhost:8080/"
        },
        "id": "5jfizrU19rBC",
        "outputId": "f2de3db4-a6f6-4cd0-b37a-6e338c0a1a3e"
      },
      "execution_count": null,
      "outputs": [
        {
          "output_type": "stream",
          "name": "stdout",
          "text": [
            "19431.791651795138 -132870.88229548323 232165.82081095624\n"
          ]
        }
      ]
    },
    {
      "cell_type": "markdown",
      "source": [
        "from least sqr - 19431.81818182 -132871.21212121  232166.66666667]\n",
        "\n",
        "without last 3 zeros of y - 19.431791651795216 -132.8708822954842 232.16582081095882"
      ],
      "metadata": {
        "id": "S5NG9J39GU7Z"
      }
    },
    {
      "cell_type": "code",
      "source": [],
      "metadata": {
        "id": "-qqRBr4QHz-n"
      },
      "execution_count": null,
      "outputs": []
    }
  ]
}