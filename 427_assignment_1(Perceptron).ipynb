{
  "nbformat": 4,
  "nbformat_minor": 0,
  "metadata": {
    "colab": {
      "provenance": []
    },
    "kernelspec": {
      "name": "python3",
      "display_name": "Python 3"
    },
    "language_info": {
      "name": "python"
    }
  },
  "cells": [
    {
      "cell_type": "code",
      "execution_count": null,
      "metadata": {
        "colab": {
          "base_uri": "https://localhost:8080/"
        },
        "id": "ipmT-bJ1KBTW",
        "outputId": "003d2ae4-a9d6-4af9-d995-51efcc85d78b"
      },
      "outputs": [
        {
          "output_type": "stream",
          "name": "stdout",
          "text": [
            "-4.9480330502671155 -5.710939848134804 5.269576453153542\n"
          ]
        }
      ],
      "source": [
        "#    1.Data set generation\n",
        "\n",
        "import numpy as np\n",
        "\n",
        "#1 \n",
        "a = np.random.uniform(-10,10)\n",
        "b = np.random.uniform(-10,10)\n",
        "c = np.random.uniform(-10,10)\n",
        "x = []\n",
        "y = []\n",
        "print(a,b,c)\n",
        "\n",
        "def hyperplane(m,n):\n",
        "    return (a*m + b*n + c)\n",
        "\n",
        "#2\n",
        "for i in range(10000):\n",
        "    x.append(np.random.uniform(-100,100))\n",
        "    y.append(np.random.uniform(-100,100))\n",
        "\n",
        "L = []\n",
        "\n",
        "for i, j in zip(x,y):\n",
        "    hyp = (hyperplane(i,j))\n",
        "    if hyp >= 0:\n",
        "        L.append(1)\n",
        "    else:\n",
        "        L.append(-1)\n",
        "L = np.array(L)\n",
        "\n"
      ]
    },
    {
      "cell_type": "code",
      "source": [
        "#        2. Train\n",
        "from sklearn.model_selection import train_test_split\n",
        "\n",
        "#making matrix from array x and y\n",
        "x = np.array(x)\n",
        "y = np.array(y)\n",
        "X = np.matrix([x,y])\n",
        "X = np.matrix.transpose(X)\n",
        "x_train, x_test, y_train, y_test = train_test_split(X,L,test_size = 0.2)\n",
        "\n",
        "#making array from the train matrix again\n",
        "m = (x_train).getA1()\n",
        "new_x = []\n",
        "new_y = []\n",
        "\n",
        "for p in range(len(m)):\n",
        "    if p % 2 == 0:\n",
        "        new_x.append(m[p])\n",
        "    else:\n",
        "        new_y.append(m[p])\n"
      ],
      "metadata": {
        "id": "VARtKDxPP_Q1"
      },
      "execution_count": null,
      "outputs": []
    },
    {
      "cell_type": "code",
      "source": [
        "#3\n",
        "a_pred = np.random.uniform()\n",
        "b_pred = np.random.uniform()\n",
        "c_pred = np.random.uniform()\n",
        "lrt = 0.01 #taking a learning rate\n",
        "epoch = 5 #taking an epoch\n",
        "print(\"Randomized a, b & c: \",a_pred,b_pred,c_pred)\n",
        "\n",
        "#4\n",
        "for _ in range(epoch):\n",
        "    for x,y,z in zip(new_x,new_y,y_train):\n",
        "        def test_hyperplane(m,n):\n",
        "            return (a_pred*m + b_pred*n + c_pred)\n",
        "        out = z*(test_hyperplane(x,y))\n",
        "        \n",
        "        if test_hyperplane(x,y) == 0:\n",
        "                print(a_pred,b_pred,c_pred)\n",
        "                break\n",
        "                #did not get #5\n",
        "        else:        \n",
        "            if out <= 0:\n",
        "                a_pred += lrt*(x*z)\n",
        "                b_pred += lrt*(y*z)\n",
        "                c_pred += lrt*z\n",
        "        \n",
        "\n",
        "print(\"Original a, b & c: \",a,b,c) \n",
        "print(\"Predicted  a, b & c: \",a_pred,b_pred,c_pred)"
      ],
      "metadata": {
        "id": "-GQlFLvkbqcy",
        "colab": {
          "base_uri": "https://localhost:8080/"
        },
        "outputId": "433ede98-86bb-44b9-a748-65428823b0c2"
      },
      "execution_count": null,
      "outputs": [
        {
          "output_type": "stream",
          "name": "stdout",
          "text": [
            "Randomized a, b & c:  0.6386428080039503 0.10662574941390168 0.7645870771995079\n",
            "Original a, b & c:  -4.9480330502671155 -5.710939848134804 5.269576453153542\n",
            "Predicted  a, b & c:  -9.480694958951519 -10.58446739181359 2.524587077199498\n"
          ]
        }
      ]
    },
    {
      "cell_type": "code",
      "source": [
        "#     3. Testing\n",
        "\n",
        "#making arrays from test matrix\n",
        "\n",
        "x = (x_test).getA1()\n",
        "t_x = []\n",
        "t_y = []\n",
        "for k in range(len(x)):\n",
        "    if k % 2 == 0:\n",
        "        t_x.append(x[k])\n",
        "    else:\n",
        "        t_y.append(x[k])\n",
        "y_pred = []\n",
        "\n",
        "#1\n",
        "for m, n in zip(t_x,t_y):\n",
        "    test_out = test_hyperplane(m,n)\n",
        "    if test_out >= 0:\n",
        "        y_pred.append(1)\n",
        "    else:\n",
        "        y_pred.append(-1)"
      ],
      "metadata": {
        "id": "JZcFr8wn8Y_r"
      },
      "execution_count": null,
      "outputs": []
    },
    {
      "cell_type": "code",
      "source": [
        "count = 0\n",
        "for i in range(len(y_pred)):\n",
        "    if y_pred[i] == y_test[i]:\n",
        "        count += 1\n",
        "print(\"Accuracy: \",count/len(y_test))"
      ],
      "metadata": {
        "colab": {
          "base_uri": "https://localhost:8080/"
        },
        "id": "wfGB3suPnJWi",
        "outputId": "e191665a-555b-46be-a273-7603d5143b3b"
      },
      "execution_count": null,
      "outputs": [
        {
          "output_type": "stream",
          "name": "stdout",
          "text": [
            "Accuracy:  0.9885\n"
          ]
        }
      ]
    },
    {
      "cell_type": "code",
      "source": [
        "from sklearn.metrics import accuracy_score\n",
        "\n",
        "accuracy = accuracy_score(y_test, y_pred)\n",
        "print(\"Accuracy: \",accuracy)"
      ],
      "metadata": {
        "colab": {
          "base_uri": "https://localhost:8080/"
        },
        "id": "jbYAbWg7pa4L",
        "outputId": "f29228bf-aaf5-44e4-c0a7-2ca9e8efe607"
      },
      "execution_count": null,
      "outputs": [
        {
          "output_type": "stream",
          "name": "stdout",
          "text": [
            "Accuracy:  0.9885\n"
          ]
        }
      ]
    },
    {
      "cell_type": "markdown",
      "source": [
        "For different runs, the accuracy ranged around **0.96-0.995** with epoch 1. With epoch 5, accuracy ranged from **0.975-0.9985**"
      ],
      "metadata": {
        "id": "VzoaC3XXqkGj"
      }
    }
  ]
}